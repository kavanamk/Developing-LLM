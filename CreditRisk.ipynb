{
 "cells": [
  {
   "cell_type": "markdown",
   "id": "c9364fee-456f-4a43-a7ca-68f2e2afd0b4",
   "metadata": {},
   "source": [
    "# 1.\tImport Dataset\n"
   ]
  },
  {
   "cell_type": "markdown",
   "id": "6d421d04-7d1e-4203-b10d-196dec49eff6",
   "metadata": {},
   "source": [
    "### Read dataset from raw CSV."
   ]
  },
  {
   "cell_type": "code",
   "execution_count": 3,
   "id": "930efe9e-f8f8-46da-a5ac-4ead1aa3b4c1",
   "metadata": {},
   "outputs": [
    {
     "name": "stderr",
     "output_type": "stream",
     "text": [
      "/var/folders/b2/s6cq43q964gcjk0fp440gx_h0000gn/T/ipykernel_1182/1816537402.py:5: DtypeWarning: Columns (19) have mixed types. Specify dtype option on import or set low_memory=False.\n",
      "  df_accepted = pd.read_csv(\"accepted_2007_to_2018Q4.csv.gz\", compression=\"gzip\", nrows=50000)\n"
     ]
    }
   ],
   "source": [
    "import pandas as pd\n",
    "import numpy as np\n",
    "\n",
    "# Read sampled data\n",
    "df_accepted = pd.read_csv(\"accepted_2007_to_2018Q4.csv.gz\", compression=\"gzip\", nrows=50000)\n",
    "df_rejected = pd.read_csv(\"rejected_2007_to_2018Q4.csv.gz\", compression=\"gzip\", nrows=50000)\n"
   ]
  },
  {
   "cell_type": "markdown",
   "id": "3c46dea3-fab7-453e-ab11-9fb73c7dd67d",
   "metadata": {},
   "source": [
    "# Step 2: Cleaning\n",
    "### 2.1 Accepted Loans\n",
    "\n",
    "Handle missing values (impute emp_length, drop irrelevant columns)\n",
    "\n",
    "Encode categorical features\n",
    "\n",
    "Normalize numeric features"
   ]
  },
  {
   "cell_type": "code",
   "execution_count": 5,
   "id": "921604fc-a5d6-43e0-9c56-813ae2868693",
   "metadata": {},
   "outputs": [
    {
     "name": "stdout",
     "output_type": "stream",
     "text": [
      "   loan_amnt   issue_d             purpose    dti addr_state emp_length\n",
      "0     3600.0  Dec-2015  debt_consolidation   5.91         PA  10+ years\n",
      "1    24700.0  Dec-2015      small_business  16.06         SD  10+ years\n",
      "2    20000.0  Dec-2015    home_improvement  10.78         IL  10+ years\n",
      "3    35000.0  Dec-2015  debt_consolidation  17.06         NJ  10+ years\n",
      "4    10400.0  Dec-2015      major_purchase  25.37         PA    3 years\n"
     ]
    }
   ],
   "source": [
    "relevant_cols = [\n",
    "    \"loan_amnt\",        # Amount Requested\n",
    "    \"issue_d\",          # Application Date\n",
    "    \"purpose\",          # Loan Title\n",
    "    \"dti\",              # Debt-To-Income Ratio\n",
    "    \"addr_state\",       # State\n",
    "    \"emp_length\"        # Employment Length\n",
    "]\n",
    "\n",
    "df_accepted_reduced = df_accepted[relevant_cols].copy()\n",
    "print(df_accepted_reduced.head())"
   ]
  },
  {
   "cell_type": "code",
   "execution_count": 6,
   "id": "0428f7cc-b6ae-4298-92ce-f6eaf6dda20c",
   "metadata": {},
   "outputs": [],
   "source": [
    "accepted_clean = df_accepted_reduced.copy()\n",
    "\n",
    "# Drop irrelevant columns\n",
    "accepted_clean = accepted_clean.drop(columns=['issue_d'])  # keep is_default as target\n",
    "\n",
    "def clean_emp_length(x):\n",
    "    if pd.isna(x):\n",
    "        return np.nan\n",
    "    x = x.strip()\n",
    "    if x == '< 1 year':\n",
    "        return 0\n",
    "    elif x == '10+ years':\n",
    "        return 10\n",
    "    else:\n",
    "        return int(x.split()[0])  # e.g., '4 years' -> 4\n",
    "\n",
    "# Apply to accepted dataset\n",
    "accepted_clean['emp_length'] = accepted_clean['emp_length'].apply(clean_emp_length)\n"
   ]
  },
  {
   "cell_type": "code",
   "execution_count": 7,
   "id": "a2ff2a8f-1b2a-4fab-bfb9-f3ac5dcb13d6",
   "metadata": {},
   "outputs": [],
   "source": [
    "# Fill missing emp_length with median\n",
    "accepted_clean['emp_length'] = accepted_clean['emp_length'].fillna(accepted_clean['emp_length'].median())"
   ]
  },
  {
   "cell_type": "code",
   "execution_count": 8,
   "id": "c080f37f-aabf-488f-9b48-d9bc50260d4e",
   "metadata": {},
   "outputs": [],
   "source": [
    "accepted_clean[\"accepted\"] = 1"
   ]
  },
  {
   "cell_type": "code",
   "execution_count": 9,
   "id": "d04455ae-e658-4ff8-a5a3-cf7bbab769f7",
   "metadata": {},
   "outputs": [
    {
     "data": {
      "text/html": [
       "<div>\n",
       "<style scoped>\n",
       "    .dataframe tbody tr th:only-of-type {\n",
       "        vertical-align: middle;\n",
       "    }\n",
       "\n",
       "    .dataframe tbody tr th {\n",
       "        vertical-align: top;\n",
       "    }\n",
       "\n",
       "    .dataframe thead th {\n",
       "        text-align: right;\n",
       "    }\n",
       "</style>\n",
       "<table border=\"1\" class=\"dataframe\">\n",
       "  <thead>\n",
       "    <tr style=\"text-align: right;\">\n",
       "      <th></th>\n",
       "      <th>loan_amnt</th>\n",
       "      <th>purpose</th>\n",
       "      <th>dti</th>\n",
       "      <th>addr_state</th>\n",
       "      <th>emp_length</th>\n",
       "      <th>accepted</th>\n",
       "    </tr>\n",
       "  </thead>\n",
       "  <tbody>\n",
       "    <tr>\n",
       "      <th>0</th>\n",
       "      <td>3600.0</td>\n",
       "      <td>debt_consolidation</td>\n",
       "      <td>5.91</td>\n",
       "      <td>PA</td>\n",
       "      <td>10.0</td>\n",
       "      <td>1</td>\n",
       "    </tr>\n",
       "    <tr>\n",
       "      <th>1</th>\n",
       "      <td>24700.0</td>\n",
       "      <td>small_business</td>\n",
       "      <td>16.06</td>\n",
       "      <td>SD</td>\n",
       "      <td>10.0</td>\n",
       "      <td>1</td>\n",
       "    </tr>\n",
       "    <tr>\n",
       "      <th>2</th>\n",
       "      <td>20000.0</td>\n",
       "      <td>home_improvement</td>\n",
       "      <td>10.78</td>\n",
       "      <td>IL</td>\n",
       "      <td>10.0</td>\n",
       "      <td>1</td>\n",
       "    </tr>\n",
       "  </tbody>\n",
       "</table>\n",
       "</div>"
      ],
      "text/plain": [
       "   loan_amnt             purpose    dti addr_state  emp_length  accepted\n",
       "0     3600.0  debt_consolidation   5.91         PA        10.0         1\n",
       "1    24700.0      small_business  16.06         SD        10.0         1\n",
       "2    20000.0    home_improvement  10.78         IL        10.0         1"
      ]
     },
     "execution_count": 9,
     "metadata": {},
     "output_type": "execute_result"
    }
   ],
   "source": [
    "accepted_clean.head(3)"
   ]
  },
  {
   "cell_type": "markdown",
   "id": "561ae8cd-cf72-4977-9239-e0ef89e9e855",
   "metadata": {},
   "source": [
    "### 2.2 Rejected Loans\n",
    "\n",
    "Drop irrelevant/missing columns\n",
    "\n",
    "Encode categorical features same way as accepted loans\n",
    "\n",
    "Assign target is_default = 0 (they never got a loan, so assume no default for modeling)"
   ]
  },
  {
   "cell_type": "code",
   "execution_count": 11,
   "id": "e2e68276-0c00-4d0e-a4d7-5c81e12a6922",
   "metadata": {},
   "outputs": [
    {
     "name": "stdout",
     "output_type": "stream",
     "text": [
      "Index(['Amount Requested', 'Application Date', 'Loan Title', 'Risk_Score',\n",
      "       'Debt-To-Income Ratio', 'Zip Code', 'State', 'Employment Length',\n",
      "       'Policy Code'],\n",
      "      dtype='object')\n"
     ]
    }
   ],
   "source": [
    "print(df_rejected.columns)"
   ]
  },
  {
   "cell_type": "code",
   "execution_count": 12,
   "id": "6abc4474-72b9-40d2-bca8-0acff53db703",
   "metadata": {},
   "outputs": [],
   "source": [
    "rejected_clean = df_rejected.copy()\n",
    "rejected_clean = rejected_clean.drop(columns=['Policy Code','Risk_Score','Zip Code'])\n"
   ]
  },
  {
   "cell_type": "code",
   "execution_count": 13,
   "id": "76792c52-fd09-44f2-ba74-f5ef16360204",
   "metadata": {},
   "outputs": [],
   "source": [
    "rejected_clean = rejected_clean.rename(columns={\n",
    "    'Amount Requested': 'loan_amnt',\n",
    "    'Application Date': 'issue_d',\n",
    "    'Loan Title': 'purpose',\n",
    "    'Debt-To-Income Ratio': 'dti',\n",
    "    'State': 'addr_state',\n",
    "    'Employment Length': 'emp_length'\n",
    "})"
   ]
  },
  {
   "cell_type": "code",
   "execution_count": 14,
   "id": "50eb91b5-fcf3-4860-acbb-7184c5eab858",
   "metadata": {},
   "outputs": [
    {
     "name": "stdout",
     "output_type": "stream",
     "text": [
      "Index(['loan_amnt', 'issue_d', 'purpose', 'dti', 'addr_state', 'emp_length'], dtype='object')\n"
     ]
    }
   ],
   "source": [
    "print(rejected_clean.columns)"
   ]
  },
  {
   "cell_type": "code",
   "execution_count": 15,
   "id": "6ac8ce51-38df-4ecf-b6c1-a430720e520c",
   "metadata": {},
   "outputs": [],
   "source": [
    "# Drop rows with missing values\n",
    "rejected_clean = rejected_clean.dropna()"
   ]
  },
  {
   "cell_type": "code",
   "execution_count": 16,
   "id": "cc6480f9-4316-4256-93be-f720dd4a29c8",
   "metadata": {},
   "outputs": [],
   "source": [
    "# Apply to accepted dataset\n",
    "rejected_clean['emp_length'] = rejected_clean['emp_length'].apply(clean_emp_length)"
   ]
  },
  {
   "cell_type": "code",
   "execution_count": 17,
   "id": "40d38111-b259-4d72-b1b6-c2651cd59373",
   "metadata": {},
   "outputs": [],
   "source": [
    "# Remove '%' and convert to float\n",
    "rejected_clean['dti'] = (\n",
    "    rejected_clean['dti']\n",
    "    .str.replace('%', '', regex=False)  # remove %\n",
    "    .astype(float)                      # convert to float\n",
    ")\n"
   ]
  },
  {
   "cell_type": "code",
   "execution_count": 18,
   "id": "1c411b84-ce18-48fd-b22a-920120bf2196",
   "metadata": {},
   "outputs": [],
   "source": [
    "# Add target column\n",
    "rejected_clean['accepted'] = 0"
   ]
  },
  {
   "cell_type": "code",
   "execution_count": 19,
   "id": "267eda43-ee28-4235-baa5-41679c30f8b0",
   "metadata": {},
   "outputs": [
    {
     "data": {
      "text/html": [
       "<div>\n",
       "<style scoped>\n",
       "    .dataframe tbody tr th:only-of-type {\n",
       "        vertical-align: middle;\n",
       "    }\n",
       "\n",
       "    .dataframe tbody tr th {\n",
       "        vertical-align: top;\n",
       "    }\n",
       "\n",
       "    .dataframe thead th {\n",
       "        text-align: right;\n",
       "    }\n",
       "</style>\n",
       "<table border=\"1\" class=\"dataframe\">\n",
       "  <thead>\n",
       "    <tr style=\"text-align: right;\">\n",
       "      <th></th>\n",
       "      <th>loan_amnt</th>\n",
       "      <th>issue_d</th>\n",
       "      <th>purpose</th>\n",
       "      <th>dti</th>\n",
       "      <th>addr_state</th>\n",
       "      <th>emp_length</th>\n",
       "      <th>accepted</th>\n",
       "    </tr>\n",
       "  </thead>\n",
       "  <tbody>\n",
       "    <tr>\n",
       "      <th>0</th>\n",
       "      <td>1000.0</td>\n",
       "      <td>2007-05-26</td>\n",
       "      <td>Wedding Covered but No Honeymoon</td>\n",
       "      <td>10.0</td>\n",
       "      <td>NM</td>\n",
       "      <td>4</td>\n",
       "      <td>0</td>\n",
       "    </tr>\n",
       "    <tr>\n",
       "      <th>1</th>\n",
       "      <td>1000.0</td>\n",
       "      <td>2007-05-26</td>\n",
       "      <td>Consolidating Debt</td>\n",
       "      <td>10.0</td>\n",
       "      <td>MA</td>\n",
       "      <td>0</td>\n",
       "      <td>0</td>\n",
       "    </tr>\n",
       "    <tr>\n",
       "      <th>2</th>\n",
       "      <td>11000.0</td>\n",
       "      <td>2007-05-27</td>\n",
       "      <td>Want to consolidate my debt</td>\n",
       "      <td>10.0</td>\n",
       "      <td>MD</td>\n",
       "      <td>1</td>\n",
       "      <td>0</td>\n",
       "    </tr>\n",
       "  </tbody>\n",
       "</table>\n",
       "</div>"
      ],
      "text/plain": [
       "   loan_amnt     issue_d                           purpose   dti addr_state  \\\n",
       "0     1000.0  2007-05-26  Wedding Covered but No Honeymoon  10.0         NM   \n",
       "1     1000.0  2007-05-26                Consolidating Debt  10.0         MA   \n",
       "2    11000.0  2007-05-27       Want to consolidate my debt  10.0         MD   \n",
       "\n",
       "   emp_length  accepted  \n",
       "0           4         0  \n",
       "1           0         0  \n",
       "2           1         0  "
      ]
     },
     "execution_count": 19,
     "metadata": {},
     "output_type": "execute_result"
    }
   ],
   "source": [
    "rejected_clean.head(3)"
   ]
  },
  {
   "cell_type": "markdown",
   "id": "16974097-81db-4409-bc6f-42357a6d98e4",
   "metadata": {},
   "source": [
    "## 2.3 Align Features"
   ]
  },
  {
   "cell_type": "code",
   "execution_count": 21,
   "id": "a46e15e4-411b-4d9b-934b-0017c0b16254",
   "metadata": {},
   "outputs": [
    {
     "data": {
      "text/html": [
       "<div>\n",
       "<style scoped>\n",
       "    .dataframe tbody tr th:only-of-type {\n",
       "        vertical-align: middle;\n",
       "    }\n",
       "\n",
       "    .dataframe tbody tr th {\n",
       "        vertical-align: top;\n",
       "    }\n",
       "\n",
       "    .dataframe thead th {\n",
       "        text-align: right;\n",
       "    }\n",
       "</style>\n",
       "<table border=\"1\" class=\"dataframe\">\n",
       "  <thead>\n",
       "    <tr style=\"text-align: right;\">\n",
       "      <th></th>\n",
       "      <th>accepted</th>\n",
       "      <th>addr_state</th>\n",
       "      <th>dti</th>\n",
       "      <th>emp_length</th>\n",
       "      <th>issue_d</th>\n",
       "      <th>loan_amnt</th>\n",
       "      <th>purpose</th>\n",
       "    </tr>\n",
       "  </thead>\n",
       "  <tbody>\n",
       "    <tr>\n",
       "      <th>0</th>\n",
       "      <td>1</td>\n",
       "      <td>PA</td>\n",
       "      <td>5.91</td>\n",
       "      <td>10.0</td>\n",
       "      <td>0</td>\n",
       "      <td>3600.0</td>\n",
       "      <td>debt_consolidation</td>\n",
       "    </tr>\n",
       "    <tr>\n",
       "      <th>1</th>\n",
       "      <td>1</td>\n",
       "      <td>SD</td>\n",
       "      <td>16.06</td>\n",
       "      <td>10.0</td>\n",
       "      <td>0</td>\n",
       "      <td>24700.0</td>\n",
       "      <td>small_business</td>\n",
       "    </tr>\n",
       "    <tr>\n",
       "      <th>2</th>\n",
       "      <td>1</td>\n",
       "      <td>IL</td>\n",
       "      <td>10.78</td>\n",
       "      <td>10.0</td>\n",
       "      <td>0</td>\n",
       "      <td>20000.0</td>\n",
       "      <td>home_improvement</td>\n",
       "    </tr>\n",
       "  </tbody>\n",
       "</table>\n",
       "</div>"
      ],
      "text/plain": [
       "   accepted addr_state    dti  emp_length issue_d  loan_amnt  \\\n",
       "0         1         PA   5.91        10.0       0     3600.0   \n",
       "1         1         SD  16.06        10.0       0    24700.0   \n",
       "2         1         IL  10.78        10.0       0    20000.0   \n",
       "\n",
       "              purpose  \n",
       "0  debt_consolidation  \n",
       "1      small_business  \n",
       "2    home_improvement  "
      ]
     },
     "execution_count": 21,
     "metadata": {},
     "output_type": "execute_result"
    }
   ],
   "source": [
    "# Align columns\n",
    "accepted_clean, rejected_clean = accepted_clean.align(rejected_clean, join='outer', axis=1, fill_value=0)\n",
    "\n",
    "# Combine datasets\n",
    "df_combined = pd.concat([accepted_clean, rejected_clean], axis=0).reset_index(drop=True)\n",
    "df_combined.head(3)"
   ]
  },
  {
   "cell_type": "code",
   "execution_count": 22,
   "id": "d9b70dea-c399-4114-8412-616f1a75a1e9",
   "metadata": {},
   "outputs": [
    {
     "name": "stdout",
     "output_type": "stream",
     "text": [
      "Number of rows in accepted_clean: 50000\n",
      "Number of rows in rejected_clean: 49968\n",
      "Number of columns in df_combined: 99968\n"
     ]
    }
   ],
   "source": [
    "# Number of rows\n",
    "print(\"Number of rows in accepted_clean:\", accepted_clean.shape[0])\n",
    "print(\"Number of rows in rejected_clean:\", rejected_clean.shape[0])\n",
    "\n",
    "# Combine the datasets\n",
    "df_combined = pd.concat([accepted_clean, rejected_clean], ignore_index=True)\n",
    "\n",
    "# Number of columns in combined DataFrame\n",
    "print(\"Number of columns in df_combined:\", df_combined.shape[0])"
   ]
  },
  {
   "cell_type": "code",
   "execution_count": 23,
   "id": "fa33d678-20eb-4282-b67f-fa7ca7333851",
   "metadata": {},
   "outputs": [
    {
     "name": "stdout",
     "output_type": "stream",
     "text": [
      "Number of unique purposes: 30943\n",
      "Unique purposes:\n",
      " ['debt_consolidation' 'small_business' 'home_improvement' ...\n",
      " 'Expanding Online Business' 'our family purchase' 'Needing money quick']\n"
     ]
    }
   ],
   "source": [
    "# Number of unique purposes\n",
    "num_unique = df_combined['purpose'].nunique()\n",
    "print(\"Number of unique purposes:\", num_unique)\n",
    "\n",
    "# Optional: list of unique purposes\n",
    "unique_purposes = df_combined['purpose'].unique()\n",
    "print(\"Unique purposes:\\n\", unique_purposes)\n"
   ]
  },
  {
   "cell_type": "markdown",
   "id": "e27927ef-1107-4bed-a4b6-d7976f0fc44f",
   "metadata": {},
   "source": [
    "## 2.4 Purpouse column NLP"
   ]
  },
  {
   "cell_type": "code",
   "execution_count": 25,
   "id": "3d309908-bed3-4e5f-87e2-d7e50015ef42",
   "metadata": {},
   "outputs": [],
   "source": [
    "import re\n",
    "from sklearn.feature_extraction.text import TfidfVectorizer\n",
    "from sklearn.cluster import KMeans\n",
    "from tqdm import tqdm\n",
    "import openai"
   ]
  },
  {
   "cell_type": "code",
   "execution_count": 26,
   "id": "bf8cf740-dafd-4c51-8f7a-93fb4049aa47",
   "metadata": {},
   "outputs": [],
   "source": [
    "# 1) Preprocessing\n",
    "\n",
    "def preprocess_text(text):\n",
    "    if pd.isna(text):\n",
    "        return \"\"\n",
    "    text = str(text).lower()\n",
    "    text = text.replace(\"_\", \" \")             # replace underscores with spaces\n",
    "    text = re.sub(r\"[^a-z0-9\\s]\", \" \", text) # remove special characters\n",
    "    text = re.sub(r\"\\s+\", \" \", text).strip() # collapse whitespace\n",
    "    return text"
   ]
  },
  {
   "cell_type": "code",
   "execution_count": 27,
   "id": "df36a7ed-7870-4313-8b25-dff2ebda6027",
   "metadata": {},
   "outputs": [],
   "source": [
    "unique_purposes_clean=[]\n",
    "for text in unique_purposes:\n",
    "    unique_purposes_clean.append(preprocess_text(text))\n",
    "\n"
   ]
  },
  {
   "cell_type": "code",
   "execution_count": 28,
   "id": "223c252b-5462-4395-a2d2-de965e7555cd",
   "metadata": {},
   "outputs": [
    {
     "name": "stdout",
     "output_type": "stream",
     "text": [
      "['debt consolidation', 'small business', 'home improvement', 'major purchase', 'credit card', 'other', 'house', 'vacation', 'car', 'medical', 'moving', 'renewable energy', 'wedding covered but no honeymoon', 'consolidating debt', 'want to consolidate my debt', 'waksman', 'mdrigo', 'trinfiniti', 'notifyi inc', 'for justin']\n"
     ]
    }
   ],
   "source": [
    "print(unique_purposes_clean[:20])"
   ]
  },
  {
   "cell_type": "markdown",
   "id": "f2dd16bf-b2a0-4f5d-bda3-ed94e00f35ab",
   "metadata": {},
   "source": [
    "### 2.4.1 Cluster locally using TFIDF"
   ]
  },
  {
   "cell_type": "code",
   "execution_count": 30,
   "id": "a92aefdc-ac73-4da1-98a7-f42906821490",
   "metadata": {},
   "outputs": [],
   "source": [
    "# Step 1: Vectorize + Cluster\n",
    "# -----------------------------\n",
    "vectorizer = TfidfVectorizer(max_features=10000, ngram_range=(1,2))\n",
    "X = vectorizer.fit_transform(unique_purposes_clean)\n",
    "\n",
    "num_clusters = 50  # adjust 50–100 depending on granularity\n",
    "kmeans = KMeans(n_clusters=num_clusters, random_state=42, n_init=10)\n",
    "cluster_labels = kmeans.fit_predict(X)\n",
    "\n",
    "# Map each purpose to its cluster\n",
    "cluster_to_items = {}\n",
    "for label, purpose in zip(cluster_labels, unique_purposes_clean):\n",
    "    cluster_to_items.setdefault(label, []).append(purpose)"
   ]
  },
  {
   "cell_type": "markdown",
   "id": "f9363227-a34a-4971-98fd-0a72b4e6dc32",
   "metadata": {},
   "source": [
    "### 2.4.2 Use Open AI to further cluster"
   ]
  },
  {
   "cell_type": "code",
   "execution_count": 32,
   "id": "d1910342-1319-41e4-9c0f-f521073e9bdf",
   "metadata": {},
   "outputs": [],
   "source": [
    "# https://platform.openai.com/api-keys"
   ]
  },
  {
   "cell_type": "code",
   "execution_count": 33,
   "id": "dbf4800e-b018-48d2-93a5-c5da32131065",
   "metadata": {},
   "outputs": [],
   "source": [
    "import openai\n",
    "import json\n",
    "\n",
    "openai.api_key = \"secret_key\"\n"
   ]
  },
  {
   "cell_type": "code",
   "execution_count": 34,
   "id": "4bd689d5-e10b-446d-970a-93928ededb35",
   "metadata": {},
   "outputs": [],
   "source": [
    "\n",
    "cluster_to_title = {}\n",
    "\n",
    "for cluster_id, items in cluster_to_items.items():\n",
    "    # Take top 10 representative purposes\n",
    "    top_items = items[:10]\n",
    "    #print(top_items)\n",
    "\n",
    "    prompt = f\"\"\"\n",
    "    You are an assistant that groups loan purposes. \n",
    "    Given these examples: {top_items}\n",
    "    Suggest a concise, human-readable category name:\n",
    "    \"\"\"\n",
    "\n",
    "    try:\n",
    "        response = openai.chat.completions.create(\n",
    "            model=\"gpt-3.5-turbo\",  # or gpt-4o-mini if quota allows\n",
    "            messages=[{\"role\": \"user\", \"content\": prompt}],\n",
    "            temperature=0\n",
    "        )\n",
    "        title = response.choices[0].message.content.strip()\n",
    "    except Exception as e:\n",
    "        # print(f\"Error for cluster {cluster_id}: {e}\")\n",
    "        # Fallback to placeholder\n",
    "        title = f\"Category_{cluster_id}\"\n",
    "\n",
    "    cluster_to_title[cluster_id] = title\n",
    "\n",
    "# Map cluster titles back to purposes\n",
    "purpose_to_category = {}\n",
    "for cluster_id, items in cluster_to_items.items():\n",
    "    title = cluster_to_title[cluster_id]\n",
    "    for purpose in items:\n",
    "        purpose_to_category[purpose] = title\n",
    "\n",
    "# Apply mapping to df_combined\n",
    "df_combined['purpose_clean'] = df_combined['purpose'].map(preprocess_text)\n",
    "df_combined['purpose_category'] = df_combined['purpose_clean'].map(purpose_to_category)\n"
   ]
  },
  {
   "cell_type": "markdown",
   "id": "5d5f81b4-0191-4c75-91cb-bd94b16339df",
   "metadata": {},
   "source": [
    "used chatGPT to get tiles for each category based on top ten cluster items. because of Rate Limiter error from OpenAI API call."
   ]
  },
  {
   "cell_type": "code",
   "execution_count": 36,
   "id": "d974e281-f94a-4adb-8d2f-e373aae8ec70",
   "metadata": {},
   "outputs": [],
   "source": [
    "cluster_to_category = {\n",
    "    \"Category_0\": \"Debt Consolidation\",\n",
    "    \"Category_1\": \"Business Loans\",\n",
    "    \"Category_2\": \"Home Improvement\",\n",
    "    \"Category_3\": \"Major Purchases\",\n",
    "    \"Category_4\": \"Credit Card Payoff\",\n",
    "    \"Category_5\": \"Miscellaneous\",\n",
    "    \"Category_6\": \"Car Loans\",\n",
    "    \"Category_7\": \"Medical Expenses\",\n",
    "    \"Category_8\": \"Debt Consolidation\",\n",
    "    \"Category_9\": \"Debt Consolidation\",\n",
    "    \"Category_10\": \"Debt Consolidation\",\n",
    "    \"Category_11\": \"Debt Repayment\",\n",
    "    \"Category_12\": \"Education Loans\",\n",
    "    \"Category_13\": \"New Beginnings\",\n",
    "    \"Category_14\": \"Debt Repayment\",\n",
    "    \"Category_15\": \"Education Loans\",\n",
    "    \"Category_16\": \"Personal Loans\",\n",
    "    \"Category_17\": \"Credit Card Payoff\",\n",
    "    \"Category_18\": \"Personal Assistance\",\n",
    "    \"Category_19\": \"Emergency Assistance\",\n",
    "    \"Category_20\": \"Debt Consolidation\",\n",
    "    \"Category_21\": \"High Interest Debt Payoff\",\n",
    "    \"Category_22\": \"Fresh Start / Startup\",\n",
    "    \"Category_23\": \"Emergency Assistance\",\n",
    "    \"Category_24\": \"High Interest Debt Payoff\",\n",
    "    \"Category_25\": \"Credit Card Refinancing\",\n",
    "    \"Category_26\": \"Education Loans\",\n",
    "    \"Category_27\": \"Personal Expenses\",\n",
    "    \"Category_28\": \"Success Stories\",\n",
    "    \"Category_29\": \"Credit Card Payoff\",\n",
    "    \"Category_30\": \"Financial Recovery\",\n",
    "    \"Category_31\": \"School & Bills\",\n",
    "    \"Category_32\": \"Debt Relief\",\n",
    "    \"Category_33\": \"Down Payment\",\n",
    "    \"Category_34\": \"Car Loan\",\n",
    "    \"Category_35\": \"Business Capital\",\n",
    "    \"Category_36\": \"Used Car Loans\",\n",
    "    \"Category_37\": \"Startup Loans\",\n",
    "    \"Category_38\": \"Real Estate Investment\",\n",
    "    \"Category_39\": \"Business Expansion\",\n",
    "    \"Category_40\": \"Credit Card Refinancing\",\n",
    "    \"Category_41\": \"General Loans\",\n",
    "    \"Category_42\": \"Motorcycle Loans\",\n",
    "    \"Category_43\": \"Private Loans\",\n",
    "    \"Category_44\": \"Education / Equipment\",\n",
    "    \"Category_45\": \"Business / Music Loans\",\n",
    "    \"Category_46\": \"Relocation Loans\",\n",
    "    \"Category_47\": \"Personal Assistance\",\n",
    "    \"Category_48\": \"Business Startup\",\n",
    "    \"Category_49\": \"Miscellaneous / Other\"\n",
    "}\n"
   ]
  },
  {
   "cell_type": "code",
   "execution_count": 37,
   "id": "ef7252c6-36a5-456b-8efd-2bc4d269586b",
   "metadata": {},
   "outputs": [
    {
     "data": {
      "text/html": [
       "<div>\n",
       "<style scoped>\n",
       "    .dataframe tbody tr th:only-of-type {\n",
       "        vertical-align: middle;\n",
       "    }\n",
       "\n",
       "    .dataframe tbody tr th {\n",
       "        vertical-align: top;\n",
       "    }\n",
       "\n",
       "    .dataframe thead th {\n",
       "        text-align: right;\n",
       "    }\n",
       "</style>\n",
       "<table border=\"1\" class=\"dataframe\">\n",
       "  <thead>\n",
       "    <tr style=\"text-align: right;\">\n",
       "      <th></th>\n",
       "      <th>accepted</th>\n",
       "      <th>addr_state</th>\n",
       "      <th>dti</th>\n",
       "      <th>emp_length</th>\n",
       "      <th>issue_d</th>\n",
       "      <th>loan_amnt</th>\n",
       "      <th>purpose</th>\n",
       "      <th>purpose_clean</th>\n",
       "      <th>purpose_category</th>\n",
       "    </tr>\n",
       "  </thead>\n",
       "  <tbody>\n",
       "    <tr>\n",
       "      <th>0</th>\n",
       "      <td>1</td>\n",
       "      <td>PA</td>\n",
       "      <td>5.91</td>\n",
       "      <td>10.0</td>\n",
       "      <td>0</td>\n",
       "      <td>3600.0</td>\n",
       "      <td>debt_consolidation</td>\n",
       "      <td>debt consolidation</td>\n",
       "      <td>Category_8</td>\n",
       "    </tr>\n",
       "    <tr>\n",
       "      <th>1</th>\n",
       "      <td>1</td>\n",
       "      <td>SD</td>\n",
       "      <td>16.06</td>\n",
       "      <td>10.0</td>\n",
       "      <td>0</td>\n",
       "      <td>24700.0</td>\n",
       "      <td>small_business</td>\n",
       "      <td>small business</td>\n",
       "      <td>Category_36</td>\n",
       "    </tr>\n",
       "    <tr>\n",
       "      <th>2</th>\n",
       "      <td>1</td>\n",
       "      <td>IL</td>\n",
       "      <td>10.78</td>\n",
       "      <td>10.0</td>\n",
       "      <td>0</td>\n",
       "      <td>20000.0</td>\n",
       "      <td>home_improvement</td>\n",
       "      <td>home improvement</td>\n",
       "      <td>Category_10</td>\n",
       "    </tr>\n",
       "    <tr>\n",
       "      <th>3</th>\n",
       "      <td>1</td>\n",
       "      <td>NJ</td>\n",
       "      <td>17.06</td>\n",
       "      <td>10.0</td>\n",
       "      <td>0</td>\n",
       "      <td>35000.0</td>\n",
       "      <td>debt_consolidation</td>\n",
       "      <td>debt consolidation</td>\n",
       "      <td>Category_8</td>\n",
       "    </tr>\n",
       "    <tr>\n",
       "      <th>4</th>\n",
       "      <td>1</td>\n",
       "      <td>PA</td>\n",
       "      <td>25.37</td>\n",
       "      <td>3.0</td>\n",
       "      <td>0</td>\n",
       "      <td>10400.0</td>\n",
       "      <td>major_purchase</td>\n",
       "      <td>major purchase</td>\n",
       "      <td>Category_35</td>\n",
       "    </tr>\n",
       "    <tr>\n",
       "      <th>5</th>\n",
       "      <td>1</td>\n",
       "      <td>GA</td>\n",
       "      <td>10.20</td>\n",
       "      <td>4.0</td>\n",
       "      <td>0</td>\n",
       "      <td>11950.0</td>\n",
       "      <td>debt_consolidation</td>\n",
       "      <td>debt consolidation</td>\n",
       "      <td>Category_8</td>\n",
       "    </tr>\n",
       "    <tr>\n",
       "      <th>6</th>\n",
       "      <td>1</td>\n",
       "      <td>MN</td>\n",
       "      <td>14.67</td>\n",
       "      <td>10.0</td>\n",
       "      <td>0</td>\n",
       "      <td>20000.0</td>\n",
       "      <td>debt_consolidation</td>\n",
       "      <td>debt consolidation</td>\n",
       "      <td>Category_8</td>\n",
       "    </tr>\n",
       "    <tr>\n",
       "      <th>7</th>\n",
       "      <td>1</td>\n",
       "      <td>SC</td>\n",
       "      <td>17.61</td>\n",
       "      <td>10.0</td>\n",
       "      <td>0</td>\n",
       "      <td>20000.0</td>\n",
       "      <td>major_purchase</td>\n",
       "      <td>major purchase</td>\n",
       "      <td>Category_35</td>\n",
       "    </tr>\n",
       "    <tr>\n",
       "      <th>8</th>\n",
       "      <td>1</td>\n",
       "      <td>PA</td>\n",
       "      <td>13.07</td>\n",
       "      <td>6.0</td>\n",
       "      <td>0</td>\n",
       "      <td>10000.0</td>\n",
       "      <td>credit_card</td>\n",
       "      <td>credit card</td>\n",
       "      <td>Category_0</td>\n",
       "    </tr>\n",
       "    <tr>\n",
       "      <th>9</th>\n",
       "      <td>1</td>\n",
       "      <td>RI</td>\n",
       "      <td>34.80</td>\n",
       "      <td>10.0</td>\n",
       "      <td>0</td>\n",
       "      <td>8000.0</td>\n",
       "      <td>credit_card</td>\n",
       "      <td>credit card</td>\n",
       "      <td>Category_0</td>\n",
       "    </tr>\n",
       "  </tbody>\n",
       "</table>\n",
       "</div>"
      ],
      "text/plain": [
       "   accepted addr_state    dti  emp_length issue_d  loan_amnt  \\\n",
       "0         1         PA   5.91        10.0       0     3600.0   \n",
       "1         1         SD  16.06        10.0       0    24700.0   \n",
       "2         1         IL  10.78        10.0       0    20000.0   \n",
       "3         1         NJ  17.06        10.0       0    35000.0   \n",
       "4         1         PA  25.37         3.0       0    10400.0   \n",
       "5         1         GA  10.20         4.0       0    11950.0   \n",
       "6         1         MN  14.67        10.0       0    20000.0   \n",
       "7         1         SC  17.61        10.0       0    20000.0   \n",
       "8         1         PA  13.07         6.0       0    10000.0   \n",
       "9         1         RI  34.80        10.0       0     8000.0   \n",
       "\n",
       "              purpose       purpose_clean purpose_category  \n",
       "0  debt_consolidation  debt consolidation       Category_8  \n",
       "1      small_business      small business      Category_36  \n",
       "2    home_improvement    home improvement      Category_10  \n",
       "3  debt_consolidation  debt consolidation       Category_8  \n",
       "4      major_purchase      major purchase      Category_35  \n",
       "5  debt_consolidation  debt consolidation       Category_8  \n",
       "6  debt_consolidation  debt consolidation       Category_8  \n",
       "7      major_purchase      major purchase      Category_35  \n",
       "8         credit_card         credit card       Category_0  \n",
       "9         credit_card         credit card       Category_0  "
      ]
     },
     "execution_count": 37,
     "metadata": {},
     "output_type": "execute_result"
    }
   ],
   "source": [
    "df_combined.head(10)"
   ]
  },
  {
   "cell_type": "code",
   "execution_count": 38,
   "id": "671da0da-f69a-4e76-ad6c-6ee99eafd04b",
   "metadata": {},
   "outputs": [
    {
     "name": "stdout",
     "output_type": "stream",
     "text": [
      "   accepted addr_state    dti  emp_length issue_d  loan_amnt  \\\n",
      "0         1         PA   5.91        10.0       0     3600.0   \n",
      "1         1         SD  16.06        10.0       0    24700.0   \n",
      "2         1         IL  10.78        10.0       0    20000.0   \n",
      "3         1         NJ  17.06        10.0       0    35000.0   \n",
      "4         1         PA  25.37         3.0       0    10400.0   \n",
      "\n",
      "         loan_purpose  \n",
      "0  Debt Consolidation  \n",
      "1      Used Car Loans  \n",
      "2  Debt Consolidation  \n",
      "3  Debt Consolidation  \n",
      "4    Business Capital  \n"
     ]
    }
   ],
   "source": [
    "# Map purpose_category to human-readable loan purpose\n",
    "df_combined['loan_purpose'] = df_combined['purpose_category'].map(cluster_to_category)\n",
    "\n",
    "# Optional: keep only relevant columns\n",
    "df_combined = df_combined[['accepted', 'addr_state', 'dti', 'emp_length', 'issue_d', 'loan_amnt', 'loan_purpose']]\n",
    "\n",
    "# Display\n",
    "print(df_combined.head())"
   ]
  },
  {
   "cell_type": "code",
   "execution_count": 39,
   "id": "df6356c3-4af7-402a-ac9d-88e1e9eb1af8",
   "metadata": {},
   "outputs": [
    {
     "data": {
      "image/png": "[encoded data removed]",
      "text/plain": [
       "<Figure size 1200x600 with 1 Axes>"
      ]
     },
     "metadata": {},
     "output_type": "display_data"
    }
   ],
   "source": [
    "import matplotlib.pyplot as plt\n",
    "\n",
    "# Count frequency of each loan purpose\n",
    "loan_counts = df_combined['loan_purpose'].value_counts()\n",
    "\n",
    "# Plot histogram / bar chart\n",
    "plt.figure(figsize=(12,6))\n",
    "loan_counts.plot(kind='bar', color='skyblue')\n",
    "plt.title('Frequency of Loan Purposes')\n",
    "plt.xlabel('Loan Purpose')\n",
    "plt.ylabel('Number of Loans')\n",
    "plt.xticks(rotation=45, ha='right')\n",
    "plt.tight_layout()\n",
    "plt.show()\n"
   ]
  },
  {
   "cell_type": "markdown",
   "id": "e7867f2f-328b-425e-a99e-d7a5b0590f61",
   "metadata": {},
   "source": [
    "This is how I converted 30,000~ categories into 50 using OpenAI API calls. Text processing has nver been easier!"
   ]
  },
  {
   "cell_type": "markdown",
   "id": "d5f12d44-a3f3-49bd-949b-7e776f530259",
   "metadata": {},
   "source": [
    "# Step 3: Feature Engineering"
   ]
  },
  {
   "cell_type": "code",
   "execution_count": 42,
   "id": "9d54e540-a734-4547-a5e8-e6973b359d08",
   "metadata": {},
   "outputs": [
    {
     "name": "stdout",
     "output_type": "stream",
     "text": [
      "   accepted addr_state    dti  emp_length issue_d  loan_amnt  \\\n",
      "0         1         PA   5.91        10.0       0     3600.0   \n",
      "1         1         SD  16.06        10.0       0    24700.0   \n",
      "2         1         IL  10.78        10.0       0    20000.0   \n",
      "3         1         NJ  17.06        10.0       0    35000.0   \n",
      "4         1         PA  25.37         3.0       0    10400.0   \n",
      "\n",
      "         loan_purpose  high_dti_flag  long_term_employment  \\\n",
      "0  Debt Consolidation              0                     1   \n",
      "1      Used Car Loans              0                     1   \n",
      "2  Debt Consolidation              0                     1   \n",
      "3  Debt Consolidation              0                     1   \n",
      "4    Business Capital              0                     0   \n",
      "\n",
      "   loan_dti_interaction  \n",
      "0               21276.0  \n",
      "1              396682.0  \n",
      "2              215600.0  \n",
      "3              597100.0  \n",
      "4              263848.0  \n"
     ]
    }
   ],
   "source": [
    "import pandas as pd\n",
    "\n",
    "# Create special-case flags\n",
    "df_combined['high_dti_flag'] = (df_combined['dti'] > 30).astype(int)\n",
    "df_combined['long_term_employment'] = (df_combined['emp_length'] >= 10).astype(int)\n",
    "\n",
    "# Create interaction feature\n",
    "df_combined['loan_dti_interaction'] = df_combined['loan_amnt'] * df_combined['dti']\n",
    "\n",
    "# Optional: check\n",
    "print(df_combined.head())\n"
   ]
  },
  {
   "cell_type": "code",
   "execution_count": 43,
   "id": "e64c61d7-4be8-4147-9c2e-19dff820cf68",
   "metadata": {},
   "outputs": [
    {
     "name": "stdout",
     "output_type": "stream",
     "text": [
      "   accepted addr_state    dti  emp_length issue_d  loan_amnt  \\\n",
      "0         1         PA   5.91        10.0       0     3600.0   \n",
      "1         1         SD  16.06        10.0       0    24700.0   \n",
      "2         1         IL  10.78        10.0       0    20000.0   \n",
      "3         1         NJ  17.06        10.0       0    35000.0   \n",
      "4         1         PA  25.37         3.0       0    10400.0   \n",
      "\n",
      "         loan_purpose  high_dti_flag  long_term_employment  \\\n",
      "0  Debt Consolidation              0                     1   \n",
      "1      Used Car Loans              0                     1   \n",
      "2  Debt Consolidation              0                     1   \n",
      "3  Debt Consolidation              0                     1   \n",
      "4    Business Capital              0                     0   \n",
      "\n",
      "   loan_dti_interaction  \n",
      "0               21276.0  \n",
      "1              396682.0  \n",
      "2              215600.0  \n",
      "3              597100.0  \n",
      "4              263848.0  \n"
     ]
    }
   ],
   "source": [
    "print(df_combined.head())"
   ]
  },
  {
   "cell_type": "markdown",
   "id": "5060940b-3ccc-41c7-a283-0da3d603a55b",
   "metadata": {},
   "source": [
    "# Step 4: Data Preprocessing\n",
    "##  4.1 Encoding"
   ]
  },
  {
   "cell_type": "code",
   "execution_count": 45,
   "id": "f325bd8e-9290-43d3-a69e-6249556b4b7f",
   "metadata": {},
   "outputs": [
    {
     "name": "stdout",
     "output_type": "stream",
     "text": [
      "   accepted    dti  emp_length issue_d  loan_amnt  high_dti_flag  \\\n",
      "0         1   5.91        10.0       0     3600.0              0   \n",
      "1         1  16.06        10.0       0    24700.0              0   \n",
      "2         1  10.78        10.0       0    20000.0              0   \n",
      "\n",
      "   long_term_employment  loan_dti_interaction  addr_state_AL  addr_state_AR  \\\n",
      "0                     1               21276.0              0              0   \n",
      "1                     1              396682.0              0              0   \n",
      "2                     1              215600.0              0              0   \n",
      "\n",
      "   ...  loan_purpose_Personal Assistance  loan_purpose_Personal Expenses  \\\n",
      "0  ...                                 0                               0   \n",
      "1  ...                                 0                               0   \n",
      "2  ...                                 0                               0   \n",
      "\n",
      "   loan_purpose_Personal Loans  loan_purpose_Private Loans  \\\n",
      "0                            0                           0   \n",
      "1                            0                           0   \n",
      "2                            0                           0   \n",
      "\n",
      "   loan_purpose_Real Estate Investment  loan_purpose_Relocation Loans  \\\n",
      "0                                    0                              0   \n",
      "1                                    0                              0   \n",
      "2                                    0                              0   \n",
      "\n",
      "   loan_purpose_School & Bills  loan_purpose_Startup Loans  \\\n",
      "0                            0                           0   \n",
      "1                            0                           0   \n",
      "2                            0                           0   \n",
      "\n",
      "   loan_purpose_Success Stories  loan_purpose_Used Car Loans  \n",
      "0                             0                            0  \n",
      "1                             0                            1  \n",
      "2                             0                            0  \n",
      "\n",
      "[3 rows x 94 columns]\n"
     ]
    }
   ],
   "source": [
    "import pandas as pd\n",
    "\n",
    "# 1. Encode categorical columns using one-hot encoding\n",
    "df_combined_encoded = pd.get_dummies(df_combined, columns=['addr_state','loan_purpose'], drop_first=True)\n",
    "\n",
    "# 2. Fill NaNs in any boolean columns and convert them to int\n",
    "bool_cols = df_combined_encoded.select_dtypes(include='bool').columns\n",
    "df_combined_encoded[bool_cols] = df_combined_encoded[bool_cols].fillna(0).astype(int)\n",
    "\n",
    "# Display the first few rows\n",
    "print(df_combined_encoded.head(3))\n"
   ]
  },
  {
   "cell_type": "markdown",
   "id": "faa788ec-1828-4cbe-b66e-89521c9c49c9",
   "metadata": {},
   "source": [
    "## 4.2 Normalize"
   ]
  },
  {
   "cell_type": "code",
   "execution_count": 47,
   "id": "787cf7ec-9e65-4ab3-8ca5-36480f2f4d87",
   "metadata": {},
   "outputs": [
    {
     "name": "stdout",
     "output_type": "stream",
     "text": [
      "   accepted       dti  emp_length issue_d  loan_amnt  high_dti_flag  \\\n",
      "0         1  0.000002        10.0       0   0.078481              0   \n",
      "1         1  0.000005        10.0       0   0.612658              0   \n",
      "2         1  0.000003        10.0       0   0.493671              0   \n",
      "3         1  0.000005        10.0       0   0.873418              0   \n",
      "4         1  0.000007         3.0       0   0.250633              0   \n",
      "\n",
      "   long_term_employment  loan_dti_interaction  addr_state_AL  addr_state_AR  \\\n",
      "0                     1              0.000001              0              0   \n",
      "1                     1              0.000010              0              0   \n",
      "2                     1              0.000006              0              0   \n",
      "3                     1              0.000015              0              0   \n",
      "4                     0              0.000007              0              0   \n",
      "\n",
      "   ...  loan_purpose_Personal Assistance  loan_purpose_Personal Expenses  \\\n",
      "0  ...                                 0                               0   \n",
      "1  ...                                 0                               0   \n",
      "2  ...                                 0                               0   \n",
      "3  ...                                 0                               0   \n",
      "4  ...                                 0                               0   \n",
      "\n",
      "   loan_purpose_Personal Loans  loan_purpose_Private Loans  \\\n",
      "0                            0                           0   \n",
      "1                            0                           0   \n",
      "2                            0                           0   \n",
      "3                            0                           0   \n",
      "4                            0                           0   \n",
      "\n",
      "   loan_purpose_Real Estate Investment  loan_purpose_Relocation Loans  \\\n",
      "0                                    0                              0   \n",
      "1                                    0                              0   \n",
      "2                                    0                              0   \n",
      "3                                    0                              0   \n",
      "4                                    0                              0   \n",
      "\n",
      "   loan_purpose_School & Bills  loan_purpose_Startup Loans  \\\n",
      "0                            0                           0   \n",
      "1                            0                           0   \n",
      "2                            0                           0   \n",
      "3                            0                           0   \n",
      "4                            0                           0   \n",
      "\n",
      "   loan_purpose_Success Stories  loan_purpose_Used Car Loans  \n",
      "0                             0                            0  \n",
      "1                             0                            1  \n",
      "2                             0                            0  \n",
      "3                             0                            0  \n",
      "4                             0                            0  \n",
      "\n",
      "[5 rows x 94 columns]\n"
     ]
    }
   ],
   "source": [
    "import pandas as pd\n",
    "from sklearn.preprocessing import MinMaxScaler\n",
    "\n",
    "# Make a copy of the encoded dataframe\n",
    "df_combined_normalized = df_combined_encoded.copy()\n",
    "\n",
    "# Columns to normalize\n",
    "numerical_cols_df_combined = ['loan_amnt', 'dti', 'loan_dti_interaction']\n",
    "\n",
    "# Initialize MinMaxScaler\n",
    "scaler = MinMaxScaler()\n",
    "\n",
    "# Fit and transform the numeric columns\n",
    "df_combined_normalized[numerical_cols_df_combined] = scaler.fit_transform(\n",
    "    df_combined_normalized[numerical_cols_df_combined]\n",
    ")\n",
    "\n",
    "# Display first few rows\n",
    "print(df_combined_normalized.head())\n"
   ]
  },
  {
   "cell_type": "code",
   "execution_count": 48,
   "id": "2caa0fca-55df-4ea5-b21e-9d9f5b283f97",
   "metadata": {},
   "outputs": [],
   "source": [
    "df_combined_normalized= df_combined_normalized.drop(columns=['issue_d'])"
   ]
  },
  {
   "cell_type": "code",
   "execution_count": 49,
   "id": "c09bdcb9-2c24-4cd6-a9a6-3683af83bec1",
   "metadata": {},
   "outputs": [
    {
     "name": "stdout",
     "output_type": "stream",
     "text": [
      "Rows before dropping missing values: 99968\n",
      "Rows after dropping missing values: 99967\n"
     ]
    }
   ],
   "source": [
    "# Number of rows before dropping\n",
    "rows_before = df_combined_normalized.shape[0]\n",
    "\n",
    "# Drop rows with any missing values\n",
    "df_combined_normalized = df_combined_normalized.dropna()\n",
    "\n",
    "# Number of rows after dropping\n",
    "rows_after = df_combined_normalized.shape[0]\n",
    "\n",
    "print(f\"Rows before dropping missing values: {rows_before}\")\n",
    "print(f\"Rows after dropping missing values: {rows_after}\")\n"
   ]
  },
  {
   "cell_type": "markdown",
   "id": "e672e9a7-fe5d-48b8-ba85-e83b8d6f79f4",
   "metadata": {},
   "source": [
    "# Step 4: Model Training\n",
    "## 4.1 Train/Test Split"
   ]
  },
  {
   "cell_type": "code",
   "execution_count": 51,
   "id": "a5a1e150-48a6-446d-8afe-f8529cf488de",
   "metadata": {},
   "outputs": [],
   "source": [
    "from sklearn.model_selection import train_test_split\n",
    "\n",
    "X = df_combined_normalized.drop(columns=['accepted'])\n",
    "y = df_combined_normalized['accepted']\n",
    "\n",
    "X_train, X_test, y_train, y_test = train_test_split(X, y, test_size=0.2, stratify=y, random_state=42)\n"
   ]
  },
  {
   "cell_type": "markdown",
   "id": "cdfa6c74-08e4-4e48-8300-cc743a95139f",
   "metadata": {},
   "source": [
    "## 4.2 Train Models\n"
   ]
  },
  {
   "cell_type": "code",
   "execution_count": 53,
   "id": "a3ba6442-8ff6-4477-ba0e-fa5a4526e7cb",
   "metadata": {},
   "outputs": [],
   "source": [
    "import pandas as pd\n",
    "from sklearn.model_selection import GridSearchCV, train_test_split\n",
    "from sklearn.metrics import roc_auc_score\n",
    "from sklearn.linear_model import LogisticRegression\n",
    "from sklearn.ensemble import RandomForestClassifier\n",
    "import xgboost as xgb"
   ]
  },
  {
   "cell_type": "markdown",
   "id": "12b4a25d-6bc7-449f-9b28-1ddd334a2103",
   "metadata": {},
   "source": [
    "## 4.2.1 Logistic Regression"
   ]
  },
  {
   "cell_type": "code",
   "execution_count": 55,
   "id": "64c8b410-52d2-4aea-b91c-5eabca6225bf",
   "metadata": {},
   "outputs": [
    {
     "name": "stdout",
     "output_type": "stream",
     "text": [
      "Logistic Regression best params: {'C': 10, 'penalty': 'l2', 'solver': 'lbfgs'}\n",
      "Logistic Regression AUC: 0.9448472383430058\n"
     ]
    }
   ],
   "source": [
    "lr = LogisticRegression(max_iter=1000, random_state=42)\n",
    "lr_params = {\n",
    "    'C': [0.01, 0.1, 1, 10],\n",
    "    'penalty': ['l2'],\n",
    "    'solver': ['lbfgs']\n",
    "}\n",
    "\n",
    "lr_grid = GridSearchCV(lr, lr_params, scoring='roc_auc', cv=5, n_jobs=-1)\n",
    "lr_grid.fit(X_train, y_train)\n",
    "y_pred_lr = lr_grid.predict_proba(X_test)[:,1]\n",
    "print(\"Logistic Regression best params:\", lr_grid.best_params_)\n",
    "print(\"Logistic Regression AUC:\", roc_auc_score(y_test, y_pred_lr))"
   ]
  },
  {
   "cell_type": "code",
   "execution_count": 57,
   "id": "13fa69b1-06a8-4023-85f5-ffa8d409e7a7",
   "metadata": {},
   "outputs": [],
   "source": [
    "import numpy as np\n",
    "import matplotlib.pyplot as plt\n",
    "from sklearn.metrics import roc_curve, auc, f1_score\n",
    "\n",
    "# Best model: replace with your trained model\n",
    "model = LogisticRegression(max_iter=1000,C= 10, penalty =  'l2', solver= 'lbfgs', random_state=42)\n",
    "model.fit(X_train, y_train)\n",
    "y_pred_prob = model.predict_proba(X_test)[:,1]\n",
    "y_pred = (y_pred_prob >= 0.5).astype(int)\n",
    "\n",
    "\n"
   ]
  },
  {
   "cell_type": "code",
   "execution_count": 59,
   "id": "dd67267d-85b9-46d5-8ec6-3389f98df5e9",
   "metadata": {},
   "outputs": [
    {
     "name": "stdout",
     "output_type": "stream",
     "text": [
      "ROC-AUC: 0.945\n",
      "F1-score: 0.896\n"
     ]
    }
   ],
   "source": [
    "# --------------------------\n",
    "# 1. Metrics\n",
    "# --------------------------\n",
    "roc_auc = auc(*roc_curve(y_test, y_pred_prob)[:2])\n",
    "f1 = f1_score(y_test, y_pred)\n",
    "print(f\"ROC-AUC: {roc_auc:.3f}\")\n",
    "print(f\"F1-score: {f1:.3f}\")\n"
   ]
  },
  {
   "cell_type": "code",
   "execution_count": 61,
   "id": "8c599b17-107b-450f-9137-e94961bea512",
   "metadata": {},
   "outputs": [],
   "source": [
    "# --------------------------\n",
    "# 2. Profit Curve\n",
    "# --------------------------\n",
    "profit_per_good_loan = 1000\n",
    "loss_per_default = -5000\n",
    "\n",
    "# Sort by predicted probability descending\n",
    "sorted_idx = np.argsort(y_pred_prob)[::-1]\n",
    "y_test_sorted = y_test.iloc[sorted_idx].values\n",
    "y_pred_prob_sorted = y_pred_prob[sorted_idx]\n",
    "\n",
    "# Cumulative expected profit\n",
    "expected_profit = np.cumsum(\n",
    "    y_test_sorted * profit_per_good_loan + (1 - y_test_sorted) * loss_per_default\n",
    ")\n"
   ]
  },
  {
   "cell_type": "code",
   "execution_count": 63,
   "id": "d9f6f3de-e4b8-4be5-9231-42b7ead27724",
   "metadata": {},
   "outputs": [
    {
     "data": {
      "image/png": "[encoded data removed]",
      "text/plain": [
       "<Figure size 1200x500 with 2 Axes>"
      ]
     },
     "metadata": {},
     "output_type": "display_data"
    }
   ],
   "source": [
    "# --------------------------\n",
    "# 3. ROC Curve\n",
    "# --------------------------\n",
    "fpr, tpr, _ = roc_curve(y_test, y_pred_prob)\n",
    "roc_auc_val = auc(fpr, tpr)\n",
    "\n",
    "plt.figure(figsize=(12,5))\n",
    "\n",
    "# ROC Curve\n",
    "plt.subplot(1,2,1)\n",
    "plt.plot(fpr, tpr, color='blue', label=f'ROC Curve (AUC = {roc_auc_val:.3f})')\n",
    "plt.plot([0,1],[0,1],'k--')\n",
    "plt.xlabel('False Positive Rate')\n",
    "plt.ylabel('True Positive Rate')\n",
    "plt.title('ROC Curve')\n",
    "plt.legend()\n",
    "\n",
    "# Profit Curve\n",
    "plt.subplot(1,2,2)\n",
    "plt.plot(np.arange(len(expected_profit)), expected_profit, color='green')\n",
    "plt.xlabel('Number of loans issued (sorted by probability)')\n",
    "plt.ylabel('Cumulative Expected Profit')\n",
    "plt.title('Profit Curve')\n",
    "\n",
    "plt.tight_layout()\n",
    "plt.show()"
   ]
  },
  {
   "cell_type": "markdown",
   "id": "cdea259e-559a-492e-a809-b8b2b9535062",
   "metadata": {},
   "source": [
    "## 4.2.2 XGBoost"
   ]
  },
  {
   "cell_type": "code",
   "execution_count": null,
   "id": "3946d2ca-cb5a-449d-955c-419bc854a5c6",
   "metadata": {},
   "outputs": [],
   "source": [
    "import numpy as np\n",
    "import matplotlib.pyplot as plt\n",
    "from sklearn.model_selection import RandomizedSearchCV\n",
    "from sklearn.metrics import roc_auc_score, f1_score, roc_curve\n",
    "from xgboost import XGBClassifier\n",
    "from sklearn.ensemble import RandomForestClassifier\n",
    "\n",
    "def expected_profit(y_true, y_pred_prob, threshold=0.5, profit_tp=1000, cost_fp=500):\n",
    "\n",
    "    y_pred = (y_pred_prob >= threshold).astype(int)\n",
    "    tp = np.sum((y_true == 1) & (y_pred == 1))\n",
    "    fp = np.sum((y_true == 0) & (y_pred == 1))\n",
    "    return tp * profit_tp - fp * cost_fp\n",
    "\n",
    "def profit_curve(y_true, y_pred_prob, profit_tp=1000, cost_fp=500):\n",
    "    thresholds = np.linspace(0, 1, 100)\n",
    "    profits = [expected_profit(y_true, y_pred_prob, t, profit_tp, cost_fp) for t in thresholds]\n",
    "    return thresholds, profits\n",
    "\n",
    "# ---------- Random Forest ----------\n",
    "rf = RandomForestClassifier(random_state=42)\n",
    "rf_params = {\n",
    "    'n_estimators': [100, 300, 500],\n",
    "    'max_depth': [5, 10, 20, None],\n",
    "    'min_samples_split': [2, 5, 10]\n",
    "}\n",
    "rf_cv = RandomizedSearchCV(rf, rf_params, cv=5, scoring='roc_auc', n_iter=10, n_jobs=-1, random_state=42)\n",
    "rf_cv.fit(X_train, y_train)\n",
    "\n",
    "best_rf = rf_cv.best_estimator_\n",
    "rf_probs = best_rf.predict_proba(X_test)[:,1]\n",
    "rf_auc = roc_auc_score(y_test, rf_probs)\n",
    "rf_f1 = f1_score(y_test, (rf_probs >= 0.5).astype(int))\n",
    "rf_profit = expected_profit(y_test, rf_probs)\n",
    "\n",
    "print(\"Random Forest Best Params:\", rf_cv.best_params_)\n",
    "print(\"RF AUC:\", rf_auc)\n",
    "print(\"RF F1:\", rf_f1)\n",
    "print(\"RF Expected Profit:\", rf_profit)"
   ]
  },
  {
   "cell_type": "markdown",
   "id": "9c33175c-5053-4072-a7db-6eacf601ac97",
   "metadata": {},
   "source": [
    "## 4.2.3 Random Forest"
   ]
  },
  {
   "cell_type": "code",
   "execution_count": null,
   "id": "c90c94cc-fab0-4075-9e15-72f929effcfe",
   "metadata": {},
   "outputs": [],
   "source": [
    "import numpy as np\n",
    "import matplotlib.pyplot as plt\n",
    "from sklearn.model_selection import RandomizedSearchCV\n",
    "from sklearn.metrics import roc_auc_score, f1_score, roc_curve\n",
    "from xgboost import XGBClassifier\n",
    "from sklearn.ensemble import RandomForestClassifier\n",
    "\n",
    "# ---------- Custom Expected Profit Metric ----------\n",
    "def expected_profit(y_true, y_pred_prob, threshold=0.5, profit_tp=1000, cost_fp=500):\n",
    "    \"\"\"\n",
    "    profit_tp: profit if loan is repaid (True Positive)\n",
    "    cost_fp: loss if defaulted loan is accepted (False Positive)\n",
    "    \"\"\"\n",
    "    y_pred = (y_pred_prob >= threshold).astype(int)\n",
    "    tp = np.sum((y_true == 1) & (y_pred == 1))\n",
    "    fp = np.sum((y_true == 0) & (y_pred == 1))\n",
    "    return tp * profit_tp - fp * cost_fp\n",
    "\n",
    "def profit_curve(y_true, y_pred_prob, profit_tp=1000, cost_fp=500):\n",
    "    thresholds = np.linspace(0, 1, 100)\n",
    "    profits = [expected_profit(y_true, y_pred_prob, t, profit_tp, cost_fp) for t in thresholds]\n",
    "    return thresholds, profits\n",
    "\n",
    "# ---------- Random Forest ----------\n",
    "rf = RandomForestClassifier(random_state=42)\n",
    "rf_params = {\n",
    "    'n_estimators': [100, 300, 500],\n",
    "    'max_depth': [5, 10, 20, None],\n",
    "    'min_samples_split': [2, 5, 10]\n",
    "}\n",
    "rf_cv = RandomizedSearchCV(rf, rf_params, cv=5, scoring='roc_auc', n_iter=10, n_jobs=-1, random_state=42)\n",
    "rf_cv.fit(X_train, y_train)\n",
    "\n",
    "best_rf = rf_cv.best_estimator_\n",
    "rf_probs = best_rf.predict_proba(X_test)[:,1]\n",
    "rf_auc = roc_auc_score(y_test, rf_probs)\n",
    "rf_f1 = f1_score(y_test, (rf_probs >= 0.5).astype(int))\n",
    "rf_profit = expected_profit(y_test, rf_probs)\n",
    "\n",
    "print(\"Random Forest Best Params:\", rf_cv.best_params_)\n",
    "print(\"RF AUC:\", rf_auc)\n",
    "print(\"RF F1:\", rf_f1)\n",
    "print(\"RF Expected Profit:\", rf_profit)"
   ]
  },
  {
   "cell_type": "code",
   "execution_count": null,
   "id": "a0acf03e-4dfd-42dc-99d6-f7daec482b35",
   "metadata": {},
   "outputs": [],
   "source": []
  },
  {
   "cell_type": "code",
   "execution_count": null,
   "id": "268f863a-935a-4e54-8cdf-c1a5880c1620",
   "metadata": {},
   "outputs": [],
   "source": []
  },
  {
   "cell_type": "code",
   "execution_count": null,
   "id": "5a0ddfa1-27a1-41cd-bccc-4869fb9cc884",
   "metadata": {},
   "outputs": [],
   "source": []
  },
  {
   "cell_type": "code",
   "execution_count": null,
   "id": "75c85d67-9277-4c32-8ceb-801f5e56a69f",
   "metadata": {},
   "outputs": [],
   "source": []
  },
  {
   "cell_type": "code",
   "execution_count": null,
   "id": "e579514f-d978-4c4e-a303-9b2527f4fca6",
   "metadata": {},
   "outputs": [],
   "source": []
  }
 ],
 "metadata": {
  "kernelspec": {
   "display_name": "Python 3 (ipykernel)",
   "language": "python",
   "name": "python3"
  },
  "language_info": {
   "codemirror_mode": {
    "name": "ipython",
    "version": 3
   },
   "file_extension": ".py",
   "mimetype": "text/x-python",
   "name": "python",
   "nbconvert_exporter": "python",
   "pygments_lexer": "ipython3",
   "version": "3.12.4"
  }
 },
 "nbformat": 4,
 "nbformat_minor": 5
}
